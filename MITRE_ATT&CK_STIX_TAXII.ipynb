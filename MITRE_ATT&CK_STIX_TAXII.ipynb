{
  "nbformat": 4,
  "nbformat_minor": 0,
  "metadata": {
    "colab": {
      "name": "MITRE ATT&CK STIX/TAXII",
      "provenance": [],
      "collapsed_sections": [],
      "authorship_tag": "ABX9TyNylzV4Ea2udhqm04+VNirx",
      "include_colab_link": true
    },
    "kernelspec": {
      "name": "python3",
      "display_name": "Python 3"
    }
  },
  "cells": [
    {
      "cell_type": "markdown",
      "metadata": {
        "id": "view-in-github",
        "colab_type": "text"
      },
      "source": [
        "<a href=\"https://colab.research.google.com/github/riparino/ATTACK-Python-Client/blob/master/MITRE_ATT%26CK_STIX_TAXII.ipynb\" target=\"_parent\"><img src=\"https://colab.research.google.com/assets/colab-badge.svg\" alt=\"Open In Colab\"/></a>"
      ]
    },
    {
      "cell_type": "markdown",
      "metadata": {
        "id": "GAyPR4Rm5oIp",
        "colab_type": "text"
      },
      "source": [
        "# TAXII Servers and Intel"
      ]
    },
    {
      "cell_type": "markdown",
      "metadata": {
        "id": "N1d_JsET6Aw1",
        "colab_type": "text"
      },
      "source": [
        "## Introduction to TAXII"
      ]
    },
    {
      "cell_type": "markdown",
      "metadata": {
        "id": "BAFt2Qo58AnM",
        "colab_type": "text"
      },
      "source": [
        "### Installation of dependent packages"
      ]
    },
    {
      "cell_type": "code",
      "metadata": {
        "id": "5CksLjHF77lj",
        "colab_type": "code",
        "colab": {}
      },
      "source": [
        "pip install stix2 attackcti"
      ],
      "execution_count": 0,
      "outputs": []
    },
    {
      "cell_type": "markdown",
      "metadata": {
        "id": "e0LFhwuC6qAH",
        "colab_type": "text"
      },
      "source": [
        "Trusted Automated Exchange of Intelligence Information (TAXII™) is an application protocol for exchanging CTI over HTTPS. ​TAXII defines a RESTful API (a set of services and message exchanges) and a set of requirements for TAXII Clients and Servers. As depicted below, TAXII defines two primary services to support a variety of common sharing models:\n",
        "\n",
        "*   **Collection** - A Collection is an interface to a logical repository of CTI objects provided by a TAXII Server that allows a producer to host a set of CTI data that can be requested by consumers: TAXII Clients and Servers exchange information in a request-response model.\n",
        "\n",
        "*   **Channel** - Maintained by a TAXII Server, a Channel allows producers to push data to many consumers and consumers to receive data from many producers: TAXII Clients exchange information with other TAXII Clients in a publish-subscribe model. *Note: The TAXII 2.0 specification reserves the keywords required for Channels but does not specify Channel services. Channels and their services will be defined in a later version of TAXII.*\n",
        "\n",
        "Collections and Channels can be organized in different ways. For example, they can be grouped to support the needs of a particular trust group.\n",
        "\n",
        "A TAXII server instance can support one or more API Roots. API Roots are logical groupings of TAXII Channels and Collections and can be thought of as instances of the TAXII API available at different URLs, where each API Root is the “root” URL of that particular instance of the TAXII API.\n",
        "\n",
        "TAXII relies on existing protocols when possible. In particular, TAXII Servers are discovered within a network via DNS Service records (and/or by a Discovery Endpoint, described in the next section). In addition, TAXII uses HTTPS as the transport for all communications, and it uses HTTP for content negotiation and authentication.\n",
        "\n",
        "TAXII was specifically designed to support the exchange of CTI represented in STIX, and support for exchanging STIX 2.0 content is mandatory to implement. However, TAXII can also be used to share data in other formats. It is important to note that STIX and TAXII are independent standards: the structures and serializations of STIX do not rely on any specific transport mechanism, and TAXII can be used to transport non-STIX data.\n",
        "\n",
        "TAXII design principles include minimizing operational changes needed for adoption; easy integration with existing sharing agreements, and support for all widely used threat sharing models: hub-and-spoke, peer-to-peer, source-subscriber."
      ]
    },
    {
      "cell_type": "markdown",
      "metadata": {
        "id": "Ac_WZjPl8mvC",
        "colab_type": "text"
      },
      "source": [
        "### Show all ATT&CK technology domains"
      ]
    },
    {
      "cell_type": "code",
      "metadata": {
        "id": "uFPxyUEJ8klg",
        "colab_type": "code",
        "colab": {
          "base_uri": "https://localhost:8080/",
          "height": 68
        },
        "outputId": "4e4fd400-e850-46fd-ed51-1aa8d6b61560"
      },
      "source": [
        "from stix2 import TAXIICollectionSource\n",
        "from taxii2client import Server\n",
        "\n",
        "# Instantiate server and get API Root\n",
        "server = Server(\"https://cti-taxii.mitre.org/taxii/\")\n",
        "api_root = server.api_roots[0]\n",
        "\n",
        "# Print name and ID of all ATT&CK technology-domains available as collections\n",
        "for collection in api_root.collections:\n",
        "          print(collection.title + \": \" + collection.id)"
      ],
      "execution_count": 6,
      "outputs": [
        {
          "output_type": "stream",
          "text": [
            "Enterprise ATT&CK: 95ecc380-afe9-11e4-9b6c-751b66dd541e\n",
            "PRE-ATT&CK: 062767bd-02d2-4b72-84ba-56caef0f8658\n",
            "Mobile ATT&CK: 2f669986-b40b-4423-b720-4396ca6a462b\n"
          ],
          "name": "stdout"
        }
      ]
    },
    {
      "cell_type": "markdown",
      "metadata": {
        "id": "-O7cuDvo86r8",
        "colab_type": "text"
      },
      "source": [
        "The ID of each collection can then be used to get the content of that collection. Here's an example of using Enterprise ATT&CK’s ID to get that content. You'll see that changing the ID in the URL, which is highlighted in the code, allows you to get the content from another specified domain, such as ATT&CK for Mobile or PRE-ATT&CK."
      ]
    },
    {
      "cell_type": "code",
      "metadata": {
        "id": "2LeZkNbU88H0",
        "colab_type": "code",
        "colab": {
          "base_uri": "https://localhost:8080/",
          "height": 989
        },
        "outputId": "4c894ebe-30da-4663-dd47-a4b160bef13b"
      },
      "source": [
        "from stix2 import TAXIICollectionSource, Filter\n",
        "from taxii2client import Collection\n",
        "\n",
        "# Initialize dictionary to hold Enterprise ATT&CK content\n",
        "attack = {}\n",
        "\n",
        "# Establish TAXII2 Collection instance for Enterprise ATT&CK collection\n",
        "collection = Collection(\"https://cti-taxii.mitre.org/stix/collections/95ecc380-afe9-11e4-9b6c-751b66dd541e/\")\n",
        "\n",
        "# Supply the collection to TAXIICollection\n",
        "tc_source = TAXIICollectionSource(collection)\n",
        "\n",
        "# Create filters to retrieve content from Enterprise ATT&CK based on type\n",
        "filter_objs = {\"techniques\": Filter(\"type\", \"=\", \"attack-pattern\"),\n",
        "          \"mitigations\": Filter(\"type\", \"=\", \"course-of-action\"),\n",
        "          \"groups\": Filter(\"type\", \"=\", \"intrusion-set\"),\n",
        "          \"malware\": Filter(\"type\", \"=\", \"malware\"),\n",
        "          \"tools\": Filter(\"type\", \"=\", \"tool\"),\n",
        "          \"relationships\": Filter(\"type\", \"=\", \"relationship\")\n",
        "}\n",
        "\n",
        "# Retrieve all Enterprise ATT&CK content\n",
        "for key in filter_objs:\n",
        "          attack[key] = tc_source.query(filter_objs[key])\n",
        "\n",
        "# For visual purposes, print the first technique received from the server\n",
        "print(attack[\"techniques\"][0])"
      ],
      "execution_count": 7,
      "outputs": [
        {
          "output_type": "stream",
          "text": [
            "{\n",
            "    \"type\": \"attack-pattern\",\n",
            "    \"id\": \"attack-pattern--b24e2a20-3b3d-4bf0-823b-1ed765398fb0\",\n",
            "    \"created_by_ref\": \"identity--c78cb6e5-0c4b-4611-8297-d1b8b55e40b5\",\n",
            "    \"created\": \"2019-10-09T18:48:31.906Z\",\n",
            "    \"modified\": \"2019-10-14T23:29:24.908Z\",\n",
            "    \"name\": \"Account Access Removal\",\n",
            "    \"description\": \"Adversaries may interrupt availability of system and network resources by inhibiting access to accounts utilized by legitimate users. Accounts may be deleted, locked, or manipulated (ex: changed credentials) to remove access to accounts.\\n\\nAdversaries may also subsequently log off and/or reboot boxes to set malicious changes into place.(Citation: CarbonBlack LockerGoga 2019)(Citation: Unit42 LockerGoga 2019)\",\n",
            "    \"kill_chain_phases\": [\n",
            "        {\n",
            "            \"kill_chain_name\": \"mitre-attack\",\n",
            "            \"phase_name\": \"impact\"\n",
            "        }\n",
            "    ],\n",
            "    \"external_references\": [\n",
            "        {\n",
            "            \"source_name\": \"mitre-attack\",\n",
            "            \"url\": \"https://attack.mitre.org/techniques/T1531\",\n",
            "            \"external_id\": \"T1531\"\n",
            "        },\n",
            "        {\n",
            "            \"source_name\": \"CarbonBlack LockerGoga 2019\",\n",
            "            \"description\": \"CarbonBlack Threat Analysis Unit. (2019, March 22). TAU Threat Intelligence Notification \\u2013 LockerGoga Ransomware. Retrieved April 16, 2019.\",\n",
            "            \"url\": \"https://www.carbonblack.com/2019/03/22/tau-threat-intelligence-notification-lockergoga-ransomware/\"\n",
            "        },\n",
            "        {\n",
            "            \"source_name\": \"Unit42 LockerGoga 2019\",\n",
            "            \"description\": \"Harbison, M.. (2019, March 26). Born This Way? Origins of LockerGoga. Retrieved April 16, 2019.\",\n",
            "            \"url\": \"https://unit42.paloaltonetworks.com/born-this-way-origins-of-lockergoga/\"\n",
            "        }\n",
            "    ],\n",
            "    \"object_marking_refs\": [\n",
            "        \"marking-definition--fa42a846-8d90-4e51-bc29-71d5b4802168\"\n",
            "    ],\n",
            "    \"x_mitre_data_sources\": [\n",
            "        \"Windows event logs\",\n",
            "        \"Process command-line parameters\",\n",
            "        \"Process monitoring\"\n",
            "    ],\n",
            "    \"x_mitre_detection\": \"Use process monitoring to monitor the execution and command line parameters of binaries involved in deleting accounts or changing passwords, such as use of [Net](https://attack.mitre.org/software/S0039). Windows event logs may also designate activity associated with an adversary's attempt to remove access to an account:\\n\\n* Event ID 4723 - An attempt was made to change an account's password\\n* Event ID 4724 - An attempt was made to reset an account's password\\n* Event ID 4726 - A user account was deleted\\n* Event ID 4740 - A user account was locked out\\n\\nAlerting on [Net](https://attack.mitre.org/software/S0039) and these Event IDs may generate a high degree of false positives, so compare against baseline knowledge for how systems are typically used and correlate modification events with other indications of malicious activity where possible.\",\n",
            "    \"x_mitre_impact_type\": [\n",
            "        \"Availability\"\n",
            "    ],\n",
            "    \"x_mitre_permissions_required\": [\n",
            "        \"User\",\n",
            "        \"Administrator\",\n",
            "        \"root\",\n",
            "        \"SYSTEM\"\n",
            "    ],\n",
            "    \"x_mitre_platforms\": [\n",
            "        \"Linux\",\n",
            "        \"macOS\",\n",
            "        \"Windows\"\n",
            "    ],\n",
            "    \"x_mitre_version\": \"1.0\"\n",
            "}\n"
          ],
          "name": "stdout"
        }
      ]
    },
    {
      "cell_type": "markdown",
      "metadata": {
        "id": "XXhMqs_79MxH",
        "colab_type": "text"
      },
      "source": [
        "## Data Mappings for ATT&CK TAXII and STIX-JSON"
      ]
    },
    {
      "cell_type": "markdown",
      "metadata": {
        "id": "byjDvW2H9uvf",
        "colab_type": "text"
      },
      "source": [
        "### Objects"
      ]
    },
    {
      "cell_type": "markdown",
      "metadata": {
        "id": "bfnk0nqL90kI",
        "colab_type": "text"
      },
      "source": [
        "In ATT&CK, there are three main concepts (excluding Tactics for now): Techniques, Groups, and Software. Most techniques also have Mitigations. STIX 2.0 describes these as objects and uses different terminology to describe them. The following table is a mapping of ATT&CK concepts to STIX 2.0 objects:\n",
        "\n",
        "\n",
        "* Tactic > `x-mitre-tactic`\n",
        "* Technique > `attack-pattern`\n",
        "* Group > `intrusion-set`\n",
        "* Software > `malware` `||` `tool`\n",
        "* Mitigation > `course-of-action`\n",
        "* Matrix > `x-mitre-matrix`\n",
        "\n",
        "The above STIX types are found as literal strings assigned to the type property of the STIX JSON object. As shown in the table, in STIX 2.0, there are objects called \"Course(s) of Action\" used to describe mitigations to ATT&CK techniques. Similarly, the STIX 2.0 object called \"Attack Pattern\" describes techniques, etc. It should also be noted that Tactics are not an explicit object type in STIX 2.0, and they are referenced implicitly as kill chain phases within the other object types, as described in the tables below."
      ]
    },
    {
      "cell_type": "markdown",
      "metadata": {
        "id": "442CRdl3_OZH",
        "colab_type": "text"
      },
      "source": [
        "### Properties"
      ]
    },
    {
      "cell_type": "markdown",
      "metadata": {
        "id": "8mUT8ee6_RvQ",
        "colab_type": "text"
      },
      "source": [
        "The following is a table mapping of ATT&CK properties, the old ATT&CK MediaWiki names, and the new STIX properties. Some of these properties are standard STIX properties, while others were custom-created for compatibility with ATT&CK. These properties are accessed from STIX objects as JSON properties:\n",
        "\n",
        "*NOTE: For simplicity's sake, I am appending the prefix of the data type (ie. `data_property.property_name`)*"
      ]
    },
    {
      "cell_type": "markdown",
      "metadata": {
        "id": "F5KH-3ooDQb7",
        "colab_type": "text"
      },
      "source": [
        "#### Common"
      ]
    },
    {
      "cell_type": "markdown",
      "metadata": {
        "id": "-SXF28_5DrUu",
        "colab_type": "text"
      },
      "source": [
        "* Common.Entry ID - `external_references[i].external_id` where `external_references[i].source_name == \"mitre-attack\"`\n",
        "* Common.Entry URL - `external_references[i].url` where `external_references[i].source_name == \"mitre-attack\"`\n",
        "* Common.Entry Title - `name`\n",
        "* Common.Entry Text - `description`\n",
        "* Common.Citation - `external_references`\n",
        "* Common.Deprecated - `x_mitre_deprecated`\n",
        "* Common.Revoked - `revoked`"
      ]
    },
    {
      "cell_type": "markdown",
      "metadata": {
        "id": "gLKRA4F3CTTD",
        "colab_type": "text"
      },
      "source": [
        "#### Techniques"
      ]
    },
    {
      "cell_type": "markdown",
      "metadata": {
        "id": "bEXvYodvDot9",
        "colab_type": "text"
      },
      "source": [
        "* Techniques.Entry Title - `name`\n",
        "* Techniques.Tactic - `kill_chain_phases[i].phase_name` where `kill_chain_phases[i].kill_chain_name == \"mitre-attack\"`\n",
        "* Techniques.Description - `description`\n",
        "* Techniques.Mitigation - `relationship` where `relationship_type == \"mitigates\"`, points from a source object with `type==\"course-of-action\"`, which contains a description\n",
        "* Techniques.Detection - `description` (inline heading of \"Detection\")\n",
        "* Techniques.Examples - `relationship`, points from the `attack-pattern` to and from `malware`, `tool`, and `intrusion-set`\n",
        "* Techniques.Platform - `x_mitre_platforms`\n",
        "* Techniques.Data Sources - `x_mitre_data_sources`\n",
        "* Techniques.Permissions Required - `x_mitre_permissions_required`\n",
        "* Techniques.Effective Permissions - `x_mitre_effective_permissions`\n",
        "* Techniques.Defense Bypassed - `x_mitre_defense_bypassed`\n",
        "* Techniques.System Requirements - `x_mitre_system_requirements`\n",
        "* Techniques.Network Requirements - `x_mitre_network_requirements`\n",
        "* Techniques.Remote Support - `x_mitre_remote_support`\n",
        "* Techniques.Contributors - `x_mitre_contributors`\n",
        "* Techniques.Impact Type - `x_mitre_impact_type`"
      ]
    },
    {
      "cell_type": "markdown",
      "metadata": {
        "id": "sBVlZGRvCf12",
        "colab_type": "text"
      },
      "source": [
        "#### Software"
      ]
    },
    {
      "cell_type": "markdown",
      "metadata": {
        "id": "35BIUiCQDxNH",
        "colab_type": "text"
      },
      "source": [
        "* Software.Techniques Used - `relationship` where `relationship_type == \"uses\"`, points to a target object with `type == \"attack-pattern\"`"
      ]
    }
  ]
}